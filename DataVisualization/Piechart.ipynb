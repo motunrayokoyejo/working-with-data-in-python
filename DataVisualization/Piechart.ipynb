{
 "cells": [
  {
   "cell_type": "code",
   "execution_count": 1,
   "metadata": {},
   "outputs": [
    {
     "data": {
      "text/plain": [
       "<Figure size 1000x800 with 1 Axes>"
      ]
     },
     "metadata": {},
     "output_type": "display_data"
    }
   ],
   "source": [
    "from matplotlib import pyplot as plt\n",
    "\n",
    "unit_topics = ['Limits', 'Derivatives', 'Integrals', 'Diff Eq', 'Applications']\n",
    "num_hardest_reported = [1, 3, 10, 15, 1]\n",
    "\n",
    "plt.figure(figsize=(10,8))\n",
    "plt.pie(num_hardest_reported, labels=unit_topics, autopct ='%1d%%')\n",
    "plt.axis('equal')\n",
    "plt.title('Hardest Topics')\n",
    "plt.savefig('my_pie_chart.png')\n",
    "plt.show()"
   ]
  }
 ],
 "metadata": {
  "kernelspec": {
   "display_name": "Python 3",
   "language": "python",
   "name": "python3"
  },
  "language_info": {
   "codemirror_mode": {
    "name": "ipython",
    "version": 3
   },
   "file_extension": ".py",
   "mimetype": "text/x-python",
   "name": "python",
   "nbconvert_exporter": "python",
   "pygments_lexer": "ipython3",
   "version": "3.7.3"
  }
 },
 "nbformat": 4,
 "nbformat_minor": 2
}
